{
 "cells": [
  {
   "cell_type": "code",
   "execution_count": 14,
   "metadata": {},
   "outputs": [],
   "source": [
    "import cvxpy as cvx\n",
    "import numpy as np\n",
    "import timeit\n",
    "from ios import *"
   ]
  },
  {
   "cell_type": "code",
   "execution_count": 137,
   "metadata": {},
   "outputs": [
    {
     "name": "stdout",
     "output_type": "stream",
     "text": [
      "[['I' 'L' 'I' 'K' 'E' 'K' 'I' 'L' 'L' 'I' 'N' 'G' 'P' 'E' 'O' 'P' 'L']\n",
      " ['E' 'B' 'E' 'C' 'A' 'U' 'S' 'E' 'I' 'T' 'I' 'S' 'S' 'O' 'M' 'U' 'C']\n",
      " ['H' 'F' 'U' 'N' 'I' 'T' 'I' 'S' 'M' 'O' 'R' 'E' 'F' 'U' 'N' 'T' 'H']\n",
      " ['A' 'N' 'K' 'I' 'L' 'L' 'I' 'N' 'G' 'W' 'I' 'L' 'D' 'G' 'A' 'M' 'E']\n",
      " ['I' 'N' 'T' 'H' 'E' 'F' 'O' 'R' 'R' 'E' 'S' 'T' 'B' 'E' 'C' 'A' 'U']\n",
      " ['S' 'E' 'M' 'A' 'N' 'I' 'S' 'T' 'H' 'E' 'M' 'O' 'S' 'T' 'D' 'A' 'N']\n",
      " ['G' 'E' 'R' 'O' 'U' 'S' 'A' 'N' 'I' 'M' 'A' 'L' 'O' 'F' 'A' 'L' 'L']\n",
      " ['T' 'O' 'K' 'I' 'L' 'L' 'S' 'O' 'M' 'E' 'T' 'H' 'I' 'N' 'G' 'G' 'I']\n",
      " ['V' 'E' 'S' 'M' 'E' 'T' 'H' 'E' 'M' 'O' 'S' 'T' 'T' 'H' 'R' 'I' 'L']\n",
      " ['L' 'I' 'N' 'G' 'E' 'X' 'P' 'E' 'R' 'E' 'N' 'C' 'E' 'I' 'T' 'I' 'S']\n",
      " ['E' 'V' 'E' 'N' 'B' 'E' 'T' 'T' 'E' 'R' 'T' 'H' 'A' 'N' 'G' 'E' 'T']\n",
      " ['T' 'I' 'N' 'G' 'Y' 'O' 'U' 'R' 'R' 'O' 'C' 'K' 'S' 'O' 'F' 'F' 'W']\n",
      " ['I' 'T' 'H' 'A' 'G' 'I' 'R' 'L' 'T' 'H' 'E' 'B' 'E' 'S' 'T' 'P' 'A']\n",
      " ['R' 'T' 'O' 'F' 'I' 'T' 'I' 'S' 'T' 'H' 'A' 'T' 'W' 'H' 'E' 'N' 'I']\n",
      " ['D' 'I' 'E' 'I' 'W' 'I' 'L' 'L' 'B' 'E' 'R' 'E' 'B' 'O' 'R' 'N' 'I']\n",
      " ['N' 'P' 'A' 'R' 'A' 'D' 'I' 'C' 'E' 'A' 'N' 'D' 'A' 'L' 'L' 'T' 'H']\n",
      " ['E' 'I' 'H' 'A' 'V' 'E' 'K' 'I' 'L' 'L' 'E' 'D' 'W' 'I' 'L' 'L' 'B']\n",
      " ['E' 'C' 'O' 'M' 'E' 'M' 'Y' 'S' 'L' 'A' 'V' 'E' 'S' 'I' 'W' 'I' 'L']\n",
      " ['L' 'N' 'O' 'T' 'G' 'I' 'V' 'E' 'Y' 'O' 'U' 'M' 'Y' 'N' 'A' 'M' 'E']\n",
      " ['B' 'E' 'C' 'A' 'U' 'S' 'E' 'Y' 'O' 'U' 'W' 'I' 'L' 'L' 'T' 'R' 'Y']\n",
      " ['T' 'O' 'S' 'L' 'O' 'W' 'D' 'O' 'W' 'N' 'O' 'R' 'S' 'T' 'O' 'P' 'M']\n",
      " ['Y' 'C' 'O' 'L' 'L' 'E' 'C' 'T' 'I' 'N' 'G' 'O' 'F' 'S' 'L' 'A' 'V']\n",
      " ['E' 'S' 'F' 'O' 'R' 'M' 'Y' 'A' 'F' 'T' 'E' 'R' 'L' 'I' 'F' 'E' 'E']\n",
      " ['B' 'E' 'O' 'R' 'I' 'E' 'T' 'E' 'M' 'E' 'T' 'H' 'H' 'P' 'I' 'T' 'I']]\n"
     ]
    }
   ],
   "source": [
    "bigram = get_bigram('data/processed/bigram.npy')\n",
    "plainseq = get_plaintext('408plaincleaned')\n",
    "plainseq = tointseq(plainseq)\n",
    "plainmat = np.reshape(plainseq, (24, 17))\n",
    "\n",
    "def toCharMat(intMat, tour=None):\n",
    "    res = np.chararray(intMat.shape, unicode=True)\n",
    "    if tour is None:\n",
    "        for i in range(intMat.shape[1]):\n",
    "            res[:,i] = tocharseq(intMat[:,i])\n",
    "    else:\n",
    "        for i,j in enumerate(tour):\n",
    "            res[:,i] = tocharseq(intMat[:,j])\n",
    "    return res   \n",
    "\n",
    "charmat = toCharMat(plainmat)\n",
    "print(charmat)"
   ]
  },
  {
   "cell_type": "code",
   "execution_count": 138,
   "metadata": {},
   "outputs": [],
   "source": [
    "# column permutation and revsersible mapping\n",
    "\n",
    "perm = np.random.permutation(17)\n",
    "perm_plainmat = plainmat[:,perm]\n",
    "# print(toCharMat(perm_plainmat, perm=perm))\n",
    "\n",
    "mapback = dict()\n",
    "for i,j in enumerate(perm):\n",
    "    mapback[i] = j"
   ]
  },
  {
   "cell_type": "code",
   "execution_count": 139,
   "metadata": {},
   "outputs": [],
   "source": [
    "def col2col(a,b):\n",
    "    logp = 0\n",
    "    for i,j in zip(a,b):\n",
    "        logp += np.log(bigram[i,j])\n",
    "    return logp\n",
    "\n",
    "def colscore(mat):\n",
    "    score = 0\n",
    "    for i in range(mat.shape[1] - 1):\n",
    "        score += col2col(mat[:,i], mat[:,i+1])\n",
    "    return score"
   ]
  },
  {
   "cell_type": "code",
   "execution_count": 140,
   "metadata": {},
   "outputs": [
    {
     "data": {
      "text/plain": [
       "-991.3825477818259"
      ]
     },
     "execution_count": 140,
     "metadata": {},
     "output_type": "execute_result"
    }
   ],
   "source": [
    "# gold key score\n",
    "colscore(plainmat)"
   ]
  },
  {
   "cell_type": "code",
   "execution_count": 141,
   "metadata": {},
   "outputs": [],
   "source": [
    "# construct score matrix for the permuted character matrix\n",
    "\n",
    "A = np.zeros((18, 18))\n",
    "for i in range(18):\n",
    "    for j in range(18):\n",
    "        if i == 17 or j == 17:\n",
    "            A[i,j] = 0\n",
    "        else:\n",
    "            A[i,j] = col2col(perm_plainmat[:,i], perm_plainmat[:,j])\n",
    "        \n",
    "# AA = np.zeros([18, 18], dtype=float)\n",
    "# AA[1:,1:] = A\n",
    "# A = AA\n",
    "# n = 18\n",
    "\n",
    "n = 18"
   ]
  },
  {
   "cell_type": "code",
   "execution_count": 142,
   "metadata": {},
   "outputs": [],
   "source": [
    "def subtour(B):\n",
    "    \"\"\"\n",
    "    helper function: return subtour from a boolean matrix B\n",
    "    \"\"\"\n",
    "    node = 0\n",
    "    subt = [node]\n",
    "    while True:\n",
    "        for j in range(n):\n",
    "            #print (B[subt[-1], j])\n",
    "            if B[subt[-1],j] > 0.99:\n",
    "                if j not in subt:\n",
    "                    subt.append(j)\n",
    "                else:\n",
    "                    return subt"
   ]
  },
  {
   "cell_type": "code",
   "execution_count": 148,
   "metadata": {
    "scrolled": false
   },
   "outputs": [
    {
     "ename": "Exception",
     "evalue": "The 'maximize' objective must resolve to a scalar.",
     "output_type": "error",
     "traceback": [
      "\u001b[0;31m---------------------------------------------------------------------------\u001b[0m",
      "\u001b[0;31mException\u001b[0m                                 Traceback (most recent call last)",
      "\u001b[0;32m<ipython-input-148-573e61078d3d>\u001b[0m in \u001b[0;36m<module>\u001b[0;34m()\u001b[0m\n\u001b[1;32m     14\u001b[0m \u001b[0;34m\u001b[0m\u001b[0m\n\u001b[1;32m     15\u001b[0m \u001b[0;31m# objective\u001b[0m\u001b[0;34m\u001b[0m\u001b[0;34m\u001b[0m\u001b[0m\n\u001b[0;32m---> 16\u001b[0;31m \u001b[0mobj\u001b[0m \u001b[0;34m=\u001b[0m \u001b[0mcvx\u001b[0m\u001b[0;34m.\u001b[0m\u001b[0mMaximize\u001b[0m\u001b[0;34m(\u001b[0m\u001b[0msum\u001b[0m\u001b[0;34m(\u001b[0m\u001b[0;34m[\u001b[0m\u001b[0mA\u001b[0m\u001b[0;34m[\u001b[0m\u001b[0mi\u001b[0m\u001b[0;34m,\u001b[0m\u001b[0;34m:\u001b[0m\u001b[0;34m]\u001b[0m\u001b[0;34m*\u001b[0m\u001b[0mB\u001b[0m\u001b[0;34m[\u001b[0m\u001b[0mi\u001b[0m\u001b[0;34m,\u001b[0m\u001b[0;34m:\u001b[0m\u001b[0;34m]\u001b[0m \u001b[0;32mfor\u001b[0m \u001b[0mi\u001b[0m \u001b[0;32min\u001b[0m \u001b[0mrange\u001b[0m\u001b[0;34m(\u001b[0m\u001b[0mn\u001b[0m\u001b[0;34m)\u001b[0m\u001b[0;34m]\u001b[0m\u001b[0;34m)\u001b[0m\u001b[0;34m)\u001b[0m\u001b[0;34m\u001b[0m\u001b[0m\n\u001b[0m\u001b[1;32m     17\u001b[0m \u001b[0;34m\u001b[0m\u001b[0m\n\u001b[1;32m     18\u001b[0m \u001b[0;34m\u001b[0m\u001b[0m\n",
      "\u001b[0;32m~/miniconda3/envs/crypto/lib/python3.6/site-packages/cvxpy/problems/objective.py\u001b[0m in \u001b[0;36m__init__\u001b[0;34m(self, expr)\u001b[0m\n\u001b[1;32m     32\u001b[0m         \u001b[0;32mif\u001b[0m \u001b[0mself\u001b[0m\u001b[0;34m.\u001b[0m\u001b[0margs\u001b[0m\u001b[0;34m[\u001b[0m\u001b[0;36m0\u001b[0m\u001b[0;34m]\u001b[0m\u001b[0;34m.\u001b[0m\u001b[0msize\u001b[0m \u001b[0;34m!=\u001b[0m \u001b[0;34m(\u001b[0m\u001b[0;36m1\u001b[0m\u001b[0;34m,\u001b[0m \u001b[0;36m1\u001b[0m\u001b[0;34m)\u001b[0m\u001b[0;34m:\u001b[0m\u001b[0;34m\u001b[0m\u001b[0m\n\u001b[1;32m     33\u001b[0m             raise Exception(\"The '%s' objective must resolve to a scalar.\"\n\u001b[0;32m---> 34\u001b[0;31m                             % self.NAME)\n\u001b[0m\u001b[1;32m     35\u001b[0m \u001b[0;34m\u001b[0m\u001b[0m\n\u001b[1;32m     36\u001b[0m     \u001b[0;32mdef\u001b[0m \u001b[0m__repr__\u001b[0m\u001b[0;34m(\u001b[0m\u001b[0mself\u001b[0m\u001b[0;34m)\u001b[0m\u001b[0;34m:\u001b[0m\u001b[0;34m\u001b[0m\u001b[0m\n",
      "\u001b[0;31mException\u001b[0m: The 'maximize' objective must resolve to a scalar."
     ]
    }
   ],
   "source": [
    "\"\"\"\n",
    "Approach 1: MTZ subtour elimination constraint\n",
    "\"\"\"\n",
    "\n",
    "# boolean matrix, indicating the trip\n",
    "B = cvx.Bool(n,n)\n",
    "\n",
    "# exemplary matrix\n",
    "C = np.ones((1,n), dtype=int)\n",
    "\n",
    "# auxiliary var\n",
    "# u = cvx.Variable(n, integer=True)\n",
    "u = cvx.Int(n)\n",
    "\n",
    "# objective\n",
    "obj = cvx.Maximize(sum([A[i,:]*B[:,i] for i in range(n)]))\n",
    "\n",
    "\n",
    "# basic condition\n",
    "constraints = [(cvx.sum_entries(B, axis=0) == C), (cvx.sum_entries(B, axis=1) == C.transpose())]\n",
    "\n",
    "# subtour elimination\n",
    "for i in range(1,n):\n",
    "    for j in range(1,n):\n",
    "        if i != j:\n",
    "            constraints.append(u[i] - u[j] + n*B[i,j] <= n - 1)\n",
    "            \n",
    "# condition for u\n",
    "for i in range(1,n):\n",
    "    constraints.append(u[i] >= 0)\n",
    "    constraints.append(u[i] <= n - 1)\n",
    "    \n",
    "st = timeit.default_timer()\n",
    "prob = cvx.Problem(obj, constraints)\n",
    "\n",
    "# Time performance:\n",
    "\n",
    "opt = prob.solve(solver=cvx.GLPK_MI)\n",
    "\n",
    "# Print results\n",
    "print (\"Minimal time: \", opt)\n",
    "print (\"Optimal tour: \", subtour(B.value))\n",
    "print (\"Converge time: \", timeit.default_timer() - st)\n"
   ]
  },
  {
   "cell_type": "code",
   "execution_count": 147,
   "metadata": {},
   "outputs": [
    {
     "name": "stdout",
     "output_type": "stream",
     "text": [
      "[8, 10, 4, 3, 5, 1, 7, 13, 6, 11, 2, 14, 0, 12, 15, 9, 16]\n",
      "[[11 15 14  4 15  6 13  8 11 11  8 10  4 10  8 11  8]\n",
      " [ 2 20 12 14 18 18  8 19  8  4 18 20  0  2  4  1  4]\n",
      " [ 7 19 13 20  5  4 17 14 12 18  8 19  8 13 20  5  7]\n",
      " [ 4 12  0  6  3 11  8 22  6 13  8 11 11  8 10 13  0]\n",
      " [20  0  2  4  1 19 18  4 17 17 14  5  4  7 19 13  8]\n",
      " [13  0  3 19 18 14 12  4  7 19 18  8 13  0 12  4 18]\n",
      " [11 11  0  5 14 11  0 12  8 13  0 18 20 14 17  4  6]\n",
      " [ 8  6  6 13  8  7 19  4 12 14 18 11 11  8 10 14 19]\n",
      " [11  8 17  7 19 19 18 14 12  4  7 19  4 12 18  4 21]\n",
      " [18  8 19  8  4  2 13  4 17  4 15 23  4  6 13  8 11]\n",
      " [19  4  6 13  0  7 19 17  4 19 19  4  1 13  4 21  4]\n",
      " [22  5  5 14 18 10  2 14 17 17 20 14 24  6 13  8 19]\n",
      " [ 0 15 19 18  4  1  4  7 19 11 17  8  6  0  7 19  8]\n",
      " [ 8 13  4  7 22 19  0  7 19 18  8 19  8  5 14 19 17]\n",
      " [ 8 13 17 14  1  4 17  4  1 11 11  8 22  8  4  8  3]\n",
      " [ 7 19 11 11  0  3 13  0  4  2  8  3  0 17  0 15 13]\n",
      " [ 1 11 11  8 22  3  4 11 11  8 10  4 21  0  7  8  4]\n",
      " [11  8 22  8 18  4 21  0 11 18 24 12  4 12 14  2  4]\n",
      " [ 4 12  0 13 24 12 20 14 24  4 21  8  6 19 14 13 11]\n",
      " [24 17 19 11 11  8 22 20 14 24  4 18 20  0  2  4  1]\n",
      " [12 15 14 19 18 17 14 13 22 14  3 22 14 11 18 14 19]\n",
      " [21  0 11 18  5 14  6 13  8 19  2  4 11 11 14  2 24]\n",
      " [ 4  4  5  8 11 17  4 19  5  0 24 12 17 14  5 18  4]\n",
      " [ 8 19  8 15  7  7 19  4 12  4 19  4  8 17 14  4  1]]\n"
     ]
    },
    {
     "data": {
      "text/plain": [
       "-1201.1959859040594"
      ]
     },
     "execution_count": 147,
     "metadata": {},
     "output_type": "execute_result"
    }
   ],
   "source": [
    "# re-map and print\n",
    "tour = subtour(B.value)\n",
    "dummy_node_idx = tour.index(17)\n",
    "tour = tour[dummy_node_idx+1:] + tour[:dummy_node_idx]\n",
    "print(tour)\n",
    "proposal = perm_plainmat[:,tour]\n",
    "print(proposal)\n",
    "colscore(proposal)\n"
   ]
  },
  {
   "cell_type": "code",
   "execution_count": 36,
   "metadata": {},
   "outputs": [],
   "source": [
    "\"\"\"\n",
    "Approach 2: Lazy subtour elimination\n",
    "\"\"\"\n",
    "\n",
    "# boolean matrix, indicating the trip\n",
    "B = cvx.Bool(n,n)\n",
    "\n",
    "# exemplary matrix\n",
    "C = np.ones((1,n), dtype=int)\n",
    "\n",
    "# objective\n",
    "obj = cvx.Minimize(sum([A[i,:]*B[:,i] for i in range(n)]))\n",
    "\n",
    "# basic condition\n",
    "constraints = [(cvx.sum_entries(B, axis=0) == C), (cvx.sum_entries(B, axis=1) == C.transpose())]\n",
    "\n",
    "# preliminary solution, which might involve subtours\n",
    "prob = cvx.Problem(obj, constraints)\n",
    "st = timeit.default_timer()\n",
    "opt = prob.solve()\n",
    "\n",
    "# while True:\n",
    "#     subt = subtour(B.value)\n",
    "#     if len(subt) == n:\n",
    "#         print (\"Minimal time: \", opt)\n",
    "#         print (\"Optimal tour: \", subt)\n",
    "#         print (\"Converge time: \", timeit.default_timer() - st)\n",
    "#         break\n",
    "#     else:\n",
    "#         print (\"Try: \", subt)\n",
    "#         nots = [j for j in range(n) if j not in subt]\n",
    "#         constraints.append(sum(B[i,j] for i in subt for j in nots) >= 1)\n",
    "#         prob = cvx.Problem(obj, constraints)\n",
    "#         opt = prob.solve(solver=cvx.GLPK_MI)"
   ]
  },
  {
   "cell_type": "code",
   "execution_count": 37,
   "metadata": {},
   "outputs": [
    {
     "data": {
      "text/plain": [
       "matrix([[9.99999997e-01, 1.08968720e-10, 1.50885147e-10, 1.35379399e-09,\n",
       "         7.24304750e-11, 9.23005124e-11, 1.66271375e-10, 1.02878158e-10,\n",
       "         8.74324951e-11, 6.90602468e-11, 9.38697053e-11, 3.02445817e-11,\n",
       "         6.03897949e-11, 7.24266894e-11, 1.12347878e-10, 8.47974977e-11,\n",
       "         1.14180070e-10],\n",
       "        [1.07016605e-10, 9.99999998e-01, 5.30375920e-11, 4.27324159e-11,\n",
       "         1.08091065e-10, 5.75327717e-11, 6.31866911e-11, 6.63936830e-11,\n",
       "         1.07180177e-10, 6.68407713e-11, 1.04969196e-09, 6.47728835e-11,\n",
       "         1.14642196e-10, 6.97352608e-11, 8.01425994e-11, 6.45545222e-11,\n",
       "         6.30278202e-11],\n",
       "        [1.38614245e-10, 8.89906980e-11, 9.99999997e-01, 1.70909650e-10,\n",
       "         1.20425320e-10, 9.52899085e-11, 5.45364363e-11, 1.05685931e-10,\n",
       "         5.02997406e-11, 9.23422070e-11, 8.01234848e-11, 7.74441529e-11,\n",
       "         8.80059879e-11, 1.00198824e-10, 3.61054977e-11, 2.01817976e-09,\n",
       "         9.68426469e-11],\n",
       "        [8.72545119e-11, 1.23086498e-10, 3.62535652e-10, 9.99999995e-01,\n",
       "         1.00046944e-10, 2.16045410e-10, 9.83580817e-11, 1.14100636e-10,\n",
       "         1.40092033e-10, 7.86922346e-10, 8.65413451e-11, 9.31481230e-11,\n",
       "         8.14682627e-11, 1.07272910e-10, 1.01144187e-10, 1.73091886e-09,\n",
       "         1.11467427e-09],\n",
       "        [1.15630108e-10, 5.14640357e-10, 7.59818201e-11, 1.13072429e-10,\n",
       "         9.99999998e-01, 8.48173591e-11, 6.30242919e-11, 5.53272650e-11,\n",
       "         5.69529192e-11, 7.70181058e-11, 7.57355368e-11, 6.73879443e-11,\n",
       "         6.97778718e-11, 7.71059794e-11, 9.37581847e-11, 6.69641621e-11,\n",
       "         2.41686880e-10],\n",
       "        [2.13441033e-10, 8.76596029e-11, 1.00563062e-10, 1.55464927e-10,\n",
       "         1.24465200e-10, 9.99999998e-01, 7.17697604e-11, 7.97724720e-11,\n",
       "         3.95261465e-11, 8.48077562e-11, 1.94215589e-10, 6.65604508e-11,\n",
       "         5.04463293e-11, 7.71258506e-11, 1.25109397e-10, 8.02583047e-11,\n",
       "         5.01852147e-10],\n",
       "        [9.57343173e-11, 2.08828972e-10, 8.29950601e-11, 7.23370720e-11,\n",
       "         8.05989613e-11, 6.20748091e-11, 9.99999999e-01, 7.40105995e-11,\n",
       "         1.00588379e-10, 6.74128368e-11, 9.62177803e-11, 5.81139833e-11,\n",
       "         1.22122419e-10, 8.48909636e-11, 1.44181845e-10, 8.13179887e-11,\n",
       "         3.75044318e-11],\n",
       "        [4.94526259e-10, 1.18775469e-10, 4.28638648e-10, 1.06135937e-10,\n",
       "         4.79581783e-11, 1.29916177e-10, 7.41501169e-11, 9.99999998e-01,\n",
       "         7.18101431e-11, 1.19654798e-10, 9.14290308e-11, 7.70041588e-11,\n",
       "         6.32289628e-11, 1.30905729e-10, 8.36446329e-11, 7.14581540e-11,\n",
       "         9.81857620e-11],\n",
       "        [1.00257935e-10, 7.34665148e-11, 3.79903036e-11, 8.78696316e-11,\n",
       "         4.58597280e-11, 4.75941613e-11, 2.18976757e-10, 7.86871172e-11,\n",
       "         9.99999999e-01, 8.19754760e-11, 8.36793371e-11, 5.33130999e-11,\n",
       "         1.09336570e-10, 7.72897166e-11, 1.27158427e-10, 6.85646681e-11,\n",
       "         7.93250018e-11],\n",
       "        [2.18286553e-10, 6.10632914e-11, 8.77617948e-11, 1.71221341e-10,\n",
       "         2.47052002e-10, 1.04990168e-10, 5.27769316e-11, 1.07430298e-10,\n",
       "         9.01859628e-11, 9.99999995e-01, 7.70091436e-11, 3.44961436e-09,\n",
       "         1.01779993e-10, 1.83021316e-10, 1.28310225e-10, 1.29826165e-10,\n",
       "         2.87623583e-10],\n",
       "        [1.85512735e-10, 1.09331455e-10, 6.61564558e-11, 1.15251592e-10,\n",
       "         1.22083474e-10, 1.12579404e-10, 7.32107740e-11, 6.47418685e-11,\n",
       "         5.77371377e-11, 5.59504362e-11, 9.99999998e-01, 6.12802564e-11,\n",
       "         6.53127075e-11, 1.41830355e-10, 9.62682580e-11, 4.51687915e-11,\n",
       "         1.07454196e-09],\n",
       "        [9.66721777e-11, 7.35800426e-11, 1.44983188e-09, 1.00391415e-10,\n",
       "         1.54311565e-10, 1.31535724e-10, 3.53851061e-11, 1.16004742e-10,\n",
       "         5.34386926e-11, 4.32092438e-10, 7.36261369e-11, 9.99999995e-01,\n",
       "         9.98137965e-11, 1.21479757e-09, 4.95060207e-11, 1.14554080e-10,\n",
       "         3.18720362e-10],\n",
       "        [8.40448824e-11, 1.17566525e-10, 7.30103069e-11, 5.45385746e-11,\n",
       "         9.05181995e-11, 3.96499887e-11, 4.98150566e-11, 7.49393322e-11,\n",
       "         1.22944438e-10, 9.28454005e-11, 9.94371330e-11, 6.79417252e-11,\n",
       "         9.99999999e-01, 6.19511006e-11, 8.57615399e-11, 7.39981193e-11,\n",
       "         1.02568351e-10],\n",
       "        [2.34036936e-10, 1.39956771e-10, 6.24196675e-11, 7.64681910e-11,\n",
       "         6.09616438e-11, 1.29627093e-10, 1.55124915e-10, 9.52077269e-10,\n",
       "         1.12655472e-10, 1.13550733e-10, 9.15345889e-11, 8.18538247e-11,\n",
       "         3.84606390e-11, 9.99999997e-01, 2.20588480e-10, 8.80315048e-11,\n",
       "         1.05896235e-10],\n",
       "        [1.79746395e-10, 1.54735326e-10, 5.79642453e-11, 1.10267823e-10,\n",
       "         2.42941242e-10, 1.14535415e-10, 1.38772535e-10, 4.00048652e-11,\n",
       "         8.91489246e-11, 1.01923806e-10, 1.21631430e-10, 8.75901071e-11,\n",
       "         7.41837060e-11, 9.17120654e-11, 9.99999998e-01, 7.27083254e-11,\n",
       "         1.07664745e-10],\n",
       "        [8.46083907e-11, 1.32036144e-10, 2.44614967e-10, 9.21912763e-11,\n",
       "         1.36744142e-10, 8.52250626e-11, 8.45926770e-11, 1.16309335e-10,\n",
       "         9.89886779e-11, 3.18413358e-09, 4.45122084e-11, 8.63403741e-11,\n",
       "         9.57860867e-11, 1.14783019e-10, 1.32949353e-10, 9.99999995e-01,\n",
       "         1.06900657e-10],\n",
       "        [3.37390540e-10, 6.63112809e-11, 8.00064069e-11, 2.52069427e-09,\n",
       "         9.45316594e-11, 5.49307765e-10, 6.87551530e-11, 5.88233306e-11,\n",
       "         9.24911257e-11, 7.11309906e-11, 8.77118908e-11, 9.06591756e-11,\n",
       "         5.68017671e-11, 5.78554779e-11, 1.68575209e-10, 4.95481588e-11,\n",
       "         9.99999996e-01]])"
      ]
     },
     "execution_count": 37,
     "metadata": {},
     "output_type": "execute_result"
    }
   ],
   "source": [
    "B.value"
   ]
  }
 ],
 "metadata": {
  "kernelspec": {
   "display_name": "Python 3",
   "language": "python",
   "name": "python3"
  },
  "language_info": {
   "codemirror_mode": {
    "name": "ipython",
    "version": 3
   },
   "file_extension": ".py",
   "mimetype": "text/x-python",
   "name": "python",
   "nbconvert_exporter": "python",
   "pygments_lexer": "ipython3",
   "version": "3.6.6"
  }
 },
 "nbformat": 4,
 "nbformat_minor": 2
}
