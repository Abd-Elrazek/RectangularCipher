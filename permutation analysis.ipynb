{
 "cells": [
  {
   "cell_type": "code",
   "execution_count": 2,
   "metadata": {},
   "outputs": [
    {
     "ename": "ModuleNotFoundError",
     "evalue": "No module named 'cvxpy'",
     "output_type": "error",
     "traceback": [
      "\u001b[0;31m---------------------------------------------------------------------------\u001b[0m",
      "\u001b[0;31mModuleNotFoundError\u001b[0m                       Traceback (most recent call last)",
      "\u001b[0;32m<ipython-input-2-3262806f7978>\u001b[0m in \u001b[0;36m<module>\u001b[0;34m()\u001b[0m\n\u001b[1;32m      1\u001b[0m \u001b[0;32mimport\u001b[0m \u001b[0mios\u001b[0m\u001b[0;34m\u001b[0m\u001b[0m\n\u001b[1;32m      2\u001b[0m \u001b[0;32mimport\u001b[0m \u001b[0mnumpy\u001b[0m \u001b[0;32mas\u001b[0m \u001b[0mnp\u001b[0m\u001b[0;34m\u001b[0m\u001b[0m\n\u001b[0;32m----> 3\u001b[0;31m \u001b[0;32mimport\u001b[0m \u001b[0mcvxpy\u001b[0m\u001b[0;34m\u001b[0m\u001b[0m\n\u001b[0m\u001b[1;32m      4\u001b[0m \u001b[0;32mimport\u001b[0m \u001b[0mmatplotlib\u001b[0m\u001b[0;34m.\u001b[0m\u001b[0mpyplot\u001b[0m \u001b[0;32mas\u001b[0m \u001b[0mplt\u001b[0m\u001b[0;34m\u001b[0m\u001b[0m\n\u001b[1;32m      5\u001b[0m \u001b[0mplainseq\u001b[0m \u001b[0;34m=\u001b[0m \u001b[0mios\u001b[0m\u001b[0;34m.\u001b[0m\u001b[0mget_plaintext\u001b[0m\u001b[0;34m(\u001b[0m\u001b[0;34m'408plaincleaned'\u001b[0m\u001b[0;34m)\u001b[0m\u001b[0;34m\u001b[0m\u001b[0m\n",
      "\u001b[0;31mModuleNotFoundError\u001b[0m: No module named 'cvxpy'"
     ]
    }
   ],
   "source": [
    "import ios\n",
    "import numpy as np\n",
    "import matplotlib.pyplot as plt\n",
    "plainseq = ios.get_plaintext('408plaincleaned')\n",
    "cipherseq = ios.get_ciphertext('408ciphercleaned')\n"
   ]
  },
  {
   "cell_type": "code",
   "execution_count": 3,
   "metadata": {},
   "outputs": [],
   "source": [
    "def toint(c):\n",
    "    return ord(c) - 65\n",
    "\n",
    "def tochar(i):\n",
    "    return chr(i + 65)\n",
    "\n",
    "def tointseq(charseq):\n",
    "    seq = []\n",
    "    for c in charseq:\n",
    "        seq += [toint(c)]\n",
    "    return seq\n",
    "\n",
    "def tocharseq(intseq):\n",
    "    seq = []\n",
    "    for i in intseq:\n",
    "        seq += [tochar(i)]\n",
    "    return seq"
   ]
  },
  {
   "cell_type": "code",
   "execution_count": 4,
   "metadata": {},
   "outputs": [],
   "source": [
    "bigram = ios.get_bigram('data/processed/bigram.npy')\n",
    "trigram = ios.get_trigram('data/processed/trigram.npy')\n",
    "def score(seq, gram=2):\n",
    "    logprob = 0\n",
    "    if gram == 2:\n",
    "        for i in range(len(seq) - 1):\n",
    "            logprob += np.log(bigram[seq[i], seq[i+1]])\n",
    "    \n",
    "    elif gram == 3:\n",
    "        for i in range(len(seq) - 2):\n",
    "            logprob += np.log(trigram[seq[i], seq[i+1], seq[i+2]])\n",
    "            \n",
    "    return logprob"
   ]
  },
  {
   "cell_type": "code",
   "execution_count": 5,
   "metadata": {},
   "outputs": [],
   "source": [
    "line1 = tointseq(plainseq)[:17]\n",
    "perms = []\n",
    "scores = []\n",
    "for _ in range(10000):\n",
    "    perm = np.random.permutation(line1)\n",
    "    perms += [perm]\n",
    "    scores += [score(perm)]\n"
   ]
  },
  {
   "cell_type": "code",
   "execution_count": 6,
   "metadata": {},
   "outputs": [
    {
     "data": {
      "text/plain": [
       "<matplotlib.collections.PathCollection at 0x7fcccc40bc50>"
      ]
     },
     "execution_count": 6,
     "metadata": {},
     "output_type": "execute_result"
    },
    {
     "data": {
      "image/png": "[encoded data removed]",
      "text/plain": [
       "<Figure size 432x288 with 1 Axes>"
      ]
     },
     "metadata": {
      "needs_background": "light"
     },
     "output_type": "display_data"
    }
   ],
   "source": [
    "plt.hist(scores, bins=100)\n",
    "plt.scatter(score(line1), 0, c='red', s=10)"
   ]
  },
  {
   "cell_type": "code",
   "execution_count": 7,
   "metadata": {},
   "outputs": [
    {
     "name": "stdout",
     "output_type": "stream",
     "text": [
      "[10  8  4 13  6  8 11 11  8 10  8 11  4 15 11 15 14]\n",
      "[10 14 15 15 11 11  8 13 10  8 11 11  4  6  8  4  8]\n",
      "[ 8 13  6 14 11  8 11  8 10 10  4 15 15  4 11 11  8]\n",
      "[10  8  4  8 15 15 11 11  8 11 10  4 11  8 14 13  6]\n",
      "[10  4 11  8  6  8 13 15 15 14 10  4  8 11  8 11 11]\n",
      "[ 6  4 15 14 15 11  4 11  8 13  8 10 10  8 11 11  8]\n",
      "[10  4 15 11 11  8 13  8 11 14 15  4  8  6 10  8 11]\n",
      "[10  8 11 11 11  4 11  8 10  4 15 14 15  8  6 13  8]\n",
      "[10  8  4 14 15  8 10  8 11 15 11  8 13  6  4 11 11]\n",
      "[15  8 15 11  4 11 10  8 10  8 11 11  8 14 13  6  4]\n"
     ]
    }
   ],
   "source": [
    "score1 = score(line1)\n",
    "for i in range(10000):\n",
    "    if scores[i] >= score1:\n",
    "        print(perms[i])\n",
    "        "
   ]
  },
  {
   "cell_type": "code",
   "execution_count": 33,
   "metadata": {},
   "outputs": [
    {
     "name": "stdout",
     "output_type": "stream",
     "text": [
      "[11  8 11  8 10  4 10  8 11 11  8 13  6 15  4 14 15]\n",
      "[15 11  8 11  8 10  4 10  8 11 11  8 13  6 15  4 14]\n",
      "[14 15 11  8 11  8 10  4 10  8 11 11  8 13  6 15  4]\n",
      "[ 4 14 15 11  8 11  8 10  4 10  8 11 11  8 13  6 15]\n",
      "[15  4 14 15 11  8 11  8 10  4 10  8 11 11  8 13  6]\n",
      "[ 6 15  4 14 15 11  8 11  8 10  4 10  8 11 11  8 13]\n",
      "[13  6 15  4 14 15 11  8 11  8 10  4 10  8 11 11  8]\n",
      "[ 8 13  6 15  4 14 15 11  8 11  8 10  4 10  8 11 11]\n",
      "[11  8 13  6 15  4 14 15 11  8 11  8 10  4 10  8 11]\n",
      "[11 11  8 13  6 15  4 14 15 11  8 11  8 10  4 10  8]\n",
      "[ 8 11 11  8 13  6 15  4 14 15 11  8 11  8 10  4 10]\n",
      "[10  8 11 11  8 13  6 15  4 14 15 11  8 11  8 10  4]\n",
      "[ 4 10  8 11 11  8 13  6 15  4 14 15 11  8 11  8 10]\n",
      "[10  4 10  8 11 11  8 13  6 15  4 14 15 11  8 11  8]\n",
      "[ 8 10  4 10  8 11 11  8 13  6 15  4 14 15 11  8 11]\n",
      "[11  8 10  4 10  8 11 11  8 13  6 15  4 14 15 11  8]\n",
      "[-36.06089749954424, -36.62378126745209, -36.06718538723067, -36.18834403009205, -35.043040601240584, -35.907558189846235, -37.89353237453359, -36.89468157163578, -37.509658539548155, -37.27480167955575, -36.749358255520306, -32.90346233874988, -34.11868311379481, -37.61280637815218, -35.65484317943247, -32.54530740045797]\n",
      "[15 10  8 11 11  8 13  6  4 11  8 10 15 14  8 11  4]\n"
     ]
    },
    {
     "data": {
      "image/png": "[encoded data removed]",
      "text/plain": [
       "<Figure size 432x288 with 1 Axes>"
      ]
     },
     "metadata": {
      "needs_background": "light"
     },
     "output_type": "display_data"
    }
   ],
   "source": [
    "perms3 = []\n",
    "scores3 = []\n",
    "for _ in range(10000):\n",
    "    perm = np.random.permutation(line1)\n",
    "    perms3 += [perm]\n",
    "    scores3 += [score(perm, gram=3)]\n",
    "plt.hist(scores3, bins=100)\n",
    "\n",
    "cycle_perm_score = []\n",
    "for i in range(1,17):\n",
    "    cycle = np.concatenate([line1[-i:], line1[:17-i]])\n",
    "    print(cycle)\n",
    "    cycle_perm_score += [score(cycle, gram=3)]\n",
    "plt.scatter(cycle_perm_score, np.zeros(16), c='red', s=10)\n",
    "print(cycle_perm_score)\n",
    "\n",
    "low_bound = min(cycle_perm_score)\n",
    "for i in range(10000):\n",
    "    if scores3[i] >= low_bound:\n",
    "        print(perms3[i])"
   ]
  },
  {
   "cell_type": "code",
   "execution_count": 6,
   "metadata": {},
   "outputs": [
    {
     "data": {
      "text/plain": [
       "309.0"
      ]
     },
     "execution_count": 6,
     "metadata": {},
     "output_type": "execute_result"
    }
   ],
   "source": [
    "import cvxpy\n",
    "import numpy as np\n",
    "\n",
    "# The data for the Knapsack problem\n",
    "# P is total weight capacity of sack\n",
    "# weights and utilities are also specified\n",
    "P = 165\n",
    "weights = np.array([23, 31, 29, 44, 53, 38, 63, 85, 89, 82])\n",
    "utilities = np.array([92, 57, 49, 68, 60, 43, 67, 84, 87, 72])\n",
    "\n",
    "# The variable we are solving for\n",
    "selection = cvxpy.Bool(len(weights))\n",
    "\n",
    "# The sum of the weights should be less than or equal to P\n",
    "weight_constraint = weights * selection <= P\n",
    "\n",
    "# Our total utility is the sum of the item utilities\n",
    "total_utility = utilities * selection\n",
    "\n",
    "# We tell cvxpy that we want to maximize total utility \n",
    "# subject to weight_constraint. All constraints in \n",
    "# cvxpy must be passed as a list\n",
    "knapsack_problem = cvxpy.Problem(cvxpy.Maximize(total_utility), [weight_constraint])\n",
    "\n",
    "# Solving the problem\n",
    "knapsack_problem.solve(solver=cvxpy.GLPK_MI)"
   ]
  },
  {
   "cell_type": "code",
   "execution_count": 5,
   "metadata": {},
   "outputs": [
    {
     "data": {
      "text/plain": [
       "matrix([[1.],\n",
       "        [1.],\n",
       "        [1.],\n",
       "        [1.],\n",
       "        [0.],\n",
       "        [1.],\n",
       "        [0.],\n",
       "        [0.],\n",
       "        [0.],\n",
       "        [0.]])"
      ]
     },
     "execution_count": 5,
     "metadata": {},
     "output_type": "execute_result"
    }
   ],
   "source": [
    "selection.value"
   ]
  }
 ],
 "metadata": {
  "kernelspec": {
   "display_name": "Python 3",
   "language": "python",
   "name": "python3"
  },
  "language_info": {
   "codemirror_mode": {
    "name": "ipython",
    "version": 3
   },
   "file_extension": ".py",
   "mimetype": "text/x-python",
   "name": "python",
   "nbconvert_exporter": "python",
   "pygments_lexer": "ipython3",
   "version": "3.6.6"
  }
 },
 "nbformat": 4,
 "nbformat_minor": 2
}
