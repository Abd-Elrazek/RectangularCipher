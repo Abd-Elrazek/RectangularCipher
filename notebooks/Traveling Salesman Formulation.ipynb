{
 "cells": [
  {
   "cell_type": "code",
   "execution_count": 1,
   "metadata": {},
   "outputs": [],
   "source": [
    "import cvxpy as cvx\n",
    "import numpy as np\n",
    "import timeit\n",
    "import sys\n",
    "sys.path.append('../')\n",
    "from ios import *"
   ]
  },
  {
   "cell_type": "code",
   "execution_count": 2,
   "metadata": {},
   "outputs": [
    {
     "name": "stdout",
     "output_type": "stream",
     "text": [
      "[['I' 'L' 'I' 'K' 'E' 'K' 'I' 'L' 'L' 'I' 'N' 'G' 'P' 'E' 'O' 'P' 'L']\n",
      " ['E' 'B' 'E' 'C' 'A' 'U' 'S' 'E' 'I' 'T' 'I' 'S' 'S' 'O' 'M' 'U' 'C']\n",
      " ['H' 'F' 'U' 'N' 'I' 'T' 'I' 'S' 'M' 'O' 'R' 'E' 'F' 'U' 'N' 'T' 'H']\n",
      " ['A' 'N' 'K' 'I' 'L' 'L' 'I' 'N' 'G' 'W' 'I' 'L' 'D' 'G' 'A' 'M' 'E']\n",
      " ['I' 'N' 'T' 'H' 'E' 'F' 'O' 'R' 'R' 'E' 'S' 'T' 'B' 'E' 'C' 'A' 'U']\n",
      " ['S' 'E' 'M' 'A' 'N' 'I' 'S' 'T' 'H' 'E' 'M' 'O' 'S' 'T' 'D' 'A' 'N']\n",
      " ['G' 'E' 'R' 'O' 'U' 'S' 'A' 'N' 'I' 'M' 'A' 'L' 'O' 'F' 'A' 'L' 'L']\n",
      " ['T' 'O' 'K' 'I' 'L' 'L' 'S' 'O' 'M' 'E' 'T' 'H' 'I' 'N' 'G' 'G' 'I']\n",
      " ['V' 'E' 'S' 'M' 'E' 'T' 'H' 'E' 'M' 'O' 'S' 'T' 'T' 'H' 'R' 'I' 'L']\n",
      " ['L' 'I' 'N' 'G' 'E' 'X' 'P' 'E' 'R' 'E' 'N' 'C' 'E' 'I' 'T' 'I' 'S']\n",
      " ['E' 'V' 'E' 'N' 'B' 'E' 'T' 'T' 'E' 'R' 'T' 'H' 'A' 'N' 'G' 'E' 'T']\n",
      " ['T' 'I' 'N' 'G' 'Y' 'O' 'U' 'R' 'R' 'O' 'C' 'K' 'S' 'O' 'F' 'F' 'W']\n",
      " ['I' 'T' 'H' 'A' 'G' 'I' 'R' 'L' 'T' 'H' 'E' 'B' 'E' 'S' 'T' 'P' 'A']\n",
      " ['R' 'T' 'O' 'F' 'I' 'T' 'I' 'S' 'T' 'H' 'A' 'T' 'W' 'H' 'E' 'N' 'I']\n",
      " ['D' 'I' 'E' 'I' 'W' 'I' 'L' 'L' 'B' 'E' 'R' 'E' 'B' 'O' 'R' 'N' 'I']\n",
      " ['N' 'P' 'A' 'R' 'A' 'D' 'I' 'C' 'E' 'A' 'N' 'D' 'A' 'L' 'L' 'T' 'H']\n",
      " ['E' 'I' 'H' 'A' 'V' 'E' 'K' 'I' 'L' 'L' 'E' 'D' 'W' 'I' 'L' 'L' 'B']\n",
      " ['E' 'C' 'O' 'M' 'E' 'M' 'Y' 'S' 'L' 'A' 'V' 'E' 'S' 'I' 'W' 'I' 'L']\n",
      " ['L' 'N' 'O' 'T' 'G' 'I' 'V' 'E' 'Y' 'O' 'U' 'M' 'Y' 'N' 'A' 'M' 'E']\n",
      " ['B' 'E' 'C' 'A' 'U' 'S' 'E' 'Y' 'O' 'U' 'W' 'I' 'L' 'L' 'T' 'R' 'Y']\n",
      " ['T' 'O' 'S' 'L' 'O' 'W' 'D' 'O' 'W' 'N' 'O' 'R' 'S' 'T' 'O' 'P' 'M']\n",
      " ['Y' 'C' 'O' 'L' 'L' 'E' 'C' 'T' 'I' 'N' 'G' 'O' 'F' 'S' 'L' 'A' 'V']\n",
      " ['E' 'S' 'F' 'O' 'R' 'M' 'Y' 'A' 'F' 'T' 'E' 'R' 'L' 'I' 'F' 'E' 'E']\n",
      " ['B' 'E' 'O' 'R' 'I' 'E' 'T' 'E' 'M' 'E' 'T' 'H' 'H' 'P' 'I' 'T' 'I']]\n"
     ]
    }
   ],
   "source": [
    "bigram = get_bigram('../data/processed/bigram.npy')\n",
    "plainseq = get_plaintext('../data/408plaincleaned')\n",
    "plainseq = tointseq(plainseq)\n",
    "plainmat = np.reshape(plainseq, (24, 17))\n",
    "\n",
    "def toCharMat(intMat, tour=None):\n",
    "    res = np.chararray(intMat.shape, unicode=True)\n",
    "    if tour is None:\n",
    "        for i in range(intMat.shape[1]):\n",
    "            res[:,i] = tocharseq(intMat[:,i])\n",
    "    else:\n",
    "        for i,j in enumerate(tour):\n",
    "            res[:,i] = tocharseq(intMat[:,j])\n",
    "    return res   \n",
    "\n",
    "charmat = toCharMat(plainmat)\n",
    "print(charmat)"
   ]
  },
  {
   "cell_type": "code",
   "execution_count": 3,
   "metadata": {},
   "outputs": [],
   "source": [
    "# column permutation and revsersible mapping\n",
    "\n",
    "perm = np.random.permutation(17)\n",
    "perm_plainmat = plainmat[:,perm]\n",
    "# print(toCharMat(perm_plainmat, perm=perm))\n",
    "\n",
    "mapback = dict()\n",
    "for i,j in enumerate(perm):\n",
    "    mapback[i] = j"
   ]
  },
  {
   "cell_type": "code",
   "execution_count": 4,
   "metadata": {},
   "outputs": [],
   "source": [
    "def col2col(a,b):\n",
    "    logp = 0\n",
    "    for i,j in zip(a,b):\n",
    "        logp += np.log(bigram[i,j])\n",
    "    return logp\n",
    "\n",
    "def colscore(mat):\n",
    "    score = 0\n",
    "    for i in range(mat.shape[1] - 1):\n",
    "        score += col2col(mat[:,i], mat[:,i+1])\n",
    "    return score"
   ]
  },
  {
   "cell_type": "code",
   "execution_count": 5,
   "metadata": {},
   "outputs": [
    {
     "name": "stdout",
     "output_type": "stream",
     "text": [
      "-991.3825477818259\n",
      "-1311.2913126693559\n"
     ]
    }
   ],
   "source": [
    "# gold key score\n",
    "print(colscore(plainmat))\n",
    "print(colscore(perm_plainmat))"
   ]
  },
  {
   "cell_type": "code",
   "execution_count": 6,
   "metadata": {},
   "outputs": [],
   "source": [
    "# construct score matrix for the permuted character matrix\n",
    "\n",
    "A = np.zeros((18, 18))\n",
    "for i in range(18):\n",
    "    for j in range(18):\n",
    "        if i == 17 or j == 17:\n",
    "            A[i,j] = 0\n",
    "        else:\n",
    "            A[i,j] = col2col(perm_plainmat[:,i], perm_plainmat[:,j])\n",
    "        \n",
    "np.savetxt('../java/distance',A[:17,:17],delimiter=' ',newline='\\n')\n",
    "n = 18"
   ]
  },
  {
   "cell_type": "code",
   "execution_count": 7,
   "metadata": {},
   "outputs": [
    {
     "name": "stdout",
     "output_type": "stream",
     "text": [
      "[[ -83.43130355  -74.39855826  -74.65329408  -85.525534    -80.23126393\n",
      "   -75.40640933  -85.43333816  -77.28422436  -70.72758208  -76.69292751\n",
      "   -80.22987545  -86.24933787  -83.00904991  -81.70629723  -82.4490424\n",
      "   -90.37613178  -77.60148705    0.        ]\n",
      " [ -78.67537404  -96.77939275  -92.62516092  -85.15695241  -90.22019749\n",
      "   -78.08644456  -76.89270968  -77.43592763  -80.45634605  -79.86814205\n",
      "   -83.4495581   -79.21911996  -69.14579207  -76.66463537  -98.85191663\n",
      "   -58.63878414  -77.3844895     0.        ]\n",
      " [ -72.9176859   -72.25054455  -90.88885453  -76.65051256  -84.15738131\n",
      "   -80.63680378  -84.80348356  -80.75335664  -88.04474809  -84.51278223\n",
      "   -72.92973144  -83.20847167  -79.47159828  -83.20856277  -83.35283867\n",
      "   -74.54372219  -81.00672702    0.        ]\n",
      " [ -75.1700495   -81.33001169  -86.01410096 -105.55895145  -83.31328668\n",
      "   -81.61508458 -106.08228409  -81.88433167  -74.74782928  -85.5160752\n",
      "   -99.53613011  -69.18248731  -88.61931681  -79.18325266  -88.09257254\n",
      "   -89.17078935  -90.20588756    0.        ]\n",
      " [ -78.69731373  -83.22163774  -84.78809991  -88.50007846  -98.41223399\n",
      "   -79.90979345  -58.77977543  -82.23123749  -90.91253377  -86.0786715\n",
      "   -80.84552118  -81.25085279  -81.62675126  -75.64974928  -91.99370024\n",
      "   -66.3354473   -86.47129303    0.        ]\n",
      " [ -72.69441585  -82.94024285  -81.91416783  -86.04134055  -86.29995748\n",
      "   -97.30219783  -82.559737    -92.10580614  -74.8882259   -78.84781481\n",
      "   -80.98972197  -81.4200123   -67.69748561  -79.11630381  -81.48067379\n",
      "   -74.05267532  -89.2334955     0.        ]\n",
      " [ -63.84447459  -77.3367395   -90.99994111  -94.6414665   -73.86687061\n",
      "   -72.36701519 -102.40037457  -80.77613033  -82.71813029  -85.28720786\n",
      "   -91.6854852   -76.0391623   -78.86352433  -90.85627112  -66.4220621\n",
      "   -95.2750329   -85.65855628    0.        ]\n",
      " [ -62.0732913   -75.50358616  -77.06352455  -89.37661684  -92.46040086\n",
      "   -86.80967429  -89.76943228  -99.66656915  -84.49916538  -86.77956793\n",
      "   -81.43869431  -85.82347251  -86.87378013  -63.51864647  -72.03836454\n",
      "   -86.13882358  -88.45679355    0.        ]\n",
      " [ -65.53238182  -47.54265802  -78.59459224  -79.73052585  -78.37272812\n",
      "   -69.55688137  -79.94477242  -85.83439159  -92.65884054  -86.78841466\n",
      "   -85.47901056  -87.37770795  -80.74513164  -72.70205516  -79.06852628\n",
      "   -83.65691672  -83.59091526    0.        ]\n",
      " [ -73.44621565  -68.03992704  -80.7923854   -81.47801893  -84.420928\n",
      "   -71.65565592  -85.0008216   -80.01277592  -94.58591451  -96.93674711\n",
      "   -86.80382112  -83.50827932  -78.38042982  -81.75352415  -71.33194969\n",
      "   -83.04585289  -65.49044278    0.        ]\n",
      " [ -61.86442791  -68.2122034   -89.38733398  -79.37661221  -80.45810058\n",
      "   -58.69471547  -87.78160791  -81.55435329  -92.41612579  -83.87476055\n",
      "   -89.07223682  -80.00775575  -79.67825191  -75.48332935  -82.42361296\n",
      "   -76.55992085  -72.17935002    0.        ]\n",
      " [ -68.87770994  -77.33696408  -81.11420484  -65.58139986  -85.40801943\n",
      "   -95.68352846  -82.22038047  -78.21140995  -81.98914794  -89.32485672\n",
      "   -77.95071161  -96.49171901  -73.94567976  -77.05442166  -85.38791068\n",
      "   -75.52714192  -88.67828655    0.        ]\n",
      " [ -70.24980068  -67.3679902   -71.84792431  -93.57966763  -81.07250882\n",
      "   -72.74840719  -82.60299516  -75.79406337  -74.66708717  -77.3972868\n",
      "   -87.85227293  -65.58314278  -88.82675394  -79.47462557  -82.30664161\n",
      "   -87.2880448   -85.63262235    0.        ]\n",
      " [ -85.7838377   -76.34752509  -88.74667714  -90.68134101  -62.86134461\n",
      "   -79.31387962  -91.05458967  -73.92545412  -76.59100337  -82.48210401\n",
      "   -86.17514229  -76.52823082  -83.17944882  -97.22581032  -87.96283805\n",
      "   -86.01102832  -87.44901107    0.        ]\n",
      " [ -77.25292519  -83.37882675  -85.21781985  -89.56142817  -86.05904163\n",
      "   -90.83110191  -76.20586899  -76.66306589  -88.11511202  -64.69447191\n",
      "   -89.28263078  -75.39690126  -82.00120089  -77.8337686  -109.33071959\n",
      "   -73.81571962  -96.76145451    0.        ]\n",
      " [ -74.2989067   -72.36043539  -49.39865806  -89.83974415  -87.66107196\n",
      "   -80.79338234  -88.77610916  -81.39881007  -92.49990665  -80.76081382\n",
      "   -87.08658347  -77.09340053  -98.34372391  -80.81405214  -80.33983534\n",
      "  -102.3566417   -87.76011356    0.        ]\n",
      " [ -52.82164705  -86.6512555   -77.1993817   -89.71255174  -83.07217278\n",
      "   -92.52131322  -89.82217122  -82.22314652  -78.15152754  -73.46809049\n",
      "   -82.90619569  -79.10140089  -84.37629247  -75.65501311  -95.49782851\n",
      "   -86.26202724 -110.58953315    0.        ]\n",
      " [   0.            0.            0.            0.            0.\n",
      "     0.            0.            0.            0.            0.\n",
      "     0.            0.            0.            0.            0.\n",
      "     0.            0.            0.        ]]\n"
     ]
    }
   ],
   "source": [
    "print(A)"
   ]
  },
  {
   "cell_type": "code",
   "execution_count": 8,
   "metadata": {},
   "outputs": [],
   "source": [
    "def subtour(B):\n",
    "    \"\"\"\n",
    "    return subtour from a boolean matrix B\n",
    "    \"\"\"\n",
    "    node = 0\n",
    "    subt = [node]\n",
    "    while True:\n",
    "        for j in range(n):\n",
    "            #print (B[subt[-1], j])\n",
    "            if B[j,subt[-1]] > 0.99:\n",
    "                if j not in subt:\n",
    "                    subt.append(j)\n",
    "                else:\n",
    "                    return subt"
   ]
  },
  {
   "cell_type": "code",
   "execution_count": 10,
   "metadata": {
    "scrolled": false
   },
   "outputs": [
    {
     "name": "stdout",
     "output_type": "stream",
     "text": [
      "Minimal time:  -991.3825477818259\n",
      "Optimal tour:  [0, 8, 1, 15, 2, 10, 5, 12, 11, 3, 17, 7, 13, 4, 6, 14, 9, 16]\n",
      "Converge time:  0.3370185359963216\n"
     ]
    }
   ],
   "source": [
    "\"\"\"\n",
    "MTZ subtour elimination constraint\n",
    "\"\"\"\n",
    "\n",
    "# boolean matrix, indicating the trip\n",
    "B = cvx.Bool(n,n)\n",
    "\n",
    "# exemplary matrix\n",
    "C = np.ones((1,n), dtype=int)\n",
    "\n",
    "# auxiliary var\n",
    "# u = cvx.Variable(n, integer=True)\n",
    "u = cvx.Int(n)\n",
    "\n",
    "# objective\n",
    "obj = cvx.Maximize(sum([A[i,:]*B[:,i] for i in range(n)]))\n",
    "\n",
    "\n",
    "# basic condition\n",
    "constraints = [(cvx.sum_entries(B, axis=0) == C), (cvx.sum_entries(B, axis=1) == C.transpose())]\n",
    "\n",
    "# subtour elimination\n",
    "for i in range(1,n):\n",
    "    for j in range(1,n):\n",
    "        if i != j:\n",
    "            constraints.append(u[i] - u[j] + n*B[i,j] <= n - 1)\n",
    "            \n",
    "# condition for u\n",
    "for i in range(1,n):\n",
    "    constraints.append(u[i] >= 0)\n",
    "    constraints.append(u[i] <= n - 1)\n",
    "    \n",
    "st = timeit.default_timer()\n",
    "prob = cvx.Problem(obj, constraints)\n",
    "\n",
    "# Time performance:\n",
    "\n",
    "opt = prob.solve(solver=cvx.GLPK_MI)\n",
    "\n",
    "# Print results\n",
    "print (\"Minimal time: \", opt)\n",
    "print (\"Optimal tour: \", subtour(B.value))\n",
    "print (\"Converge time: \", timeit.default_timer() - st)\n"
   ]
  },
  {
   "cell_type": "code",
   "execution_count": null,
   "metadata": {},
   "outputs": [],
   "source": [
    "# re-map and print\n",
    "tour = subtour(B.value)\n",
    "dummy_node_idx = tour.index(17)\n",
    "tour = tour[dummy_node_idx+1:] + tour[:dummy_node_idx]\n",
    "print(tour)\n",
    "proposal = perm_plainmat[:,tour]\n",
    "print(proposal)\n",
    "colscore(proposal)\n",
    "B = B.value\n",
    "print(sum([A[i,:]*B[:,i] for i in range(n)]))\n",
    "print(B)\n",
    "print(u.value)"
   ]
  },
  {
   "cell_type": "code",
   "execution_count": null,
   "metadata": {},
   "outputs": [],
   "source": [
    "\"\"\"\n",
    "Lazy subtour elimination\n",
    "\"\"\"\n",
    "\n",
    "# boolean matrix, indicating the trip\n",
    "B = cvx.Bool(n,n)\n",
    "\n",
    "# exemplary matrix\n",
    "C = np.ones((1,n), dtype=int)\n",
    "\n",
    "# objective\n",
    "obj = cvx.Maximize(sum([A[i,:]*B[:,i] for i in range(n)]))\n",
    "\n",
    "# basic condition\n",
    "constraints = [(cvx.sum_entries(B, axis=0) == C), (cvx.sum_entries(B, axis=1) == C.transpose())]\n",
    "\n",
    "# preliminary solution, which might involve subtours\n",
    "prob = cvx.Problem(obj, constraints)\n",
    "st = timeit.default_timer()\n",
    "opt = prob.solve()\n",
    "\n",
    "# while True:\n",
    "#     subt = subtour(B.value)\n",
    "#     if len(subt) == n:\n",
    "#         print (\"Minimal time: \", opt)\n",
    "#         print (\"Optimal tour: \", subt)\n",
    "#         print (\"Converge time: \", timeit.default_timer() - st)\n",
    "#         break\n",
    "#     else:\n",
    "#         print (\"Try: \", subt)\n",
    "#         nots = [j for j in range(n) if j not in subt]\n",
    "#         constraints.append(sum(B[i,j] for i in subt for j in nots) >= 1)\n",
    "#         prob = cvx.Problem(obj, constraints)\n",
    "#         opt = prob.solve(solver=cvx.GLPK_MI)"
   ]
  },
  {
   "cell_type": "code",
   "execution_count": null,
   "metadata": {},
   "outputs": [],
   "source": [
    "B.value"
   ]
  }
 ],
 "metadata": {
  "kernelspec": {
   "display_name": "Python 3",
   "language": "python",
   "name": "python3"
  },
  "language_info": {
   "codemirror_mode": {
    "name": "ipython",
    "version": 3
   },
   "file_extension": ".py",
   "mimetype": "text/x-python",
   "name": "python",
   "nbconvert_exporter": "python",
   "pygments_lexer": "ipython3",
   "version": "3.6.6"
  }
 },
 "nbformat": 4,
 "nbformat_minor": 2
}
